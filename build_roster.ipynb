{
 "cells": [
  {
   "cell_type": "code",
   "execution_count": 2,
   "id": "c6594141",
   "metadata": {},
   "outputs": [],
   "source": [
    "import json\n",
    "f = open('data.json', 'r')\n",
    "data = json.load(f)"
   ]
  },
  {
   "cell_type": "code",
   "execution_count": 3,
   "id": "14410a9a",
   "metadata": {},
   "outputs": [],
   "source": [
    "import matplotlib.pyplot as plt\n",
    "import numpy as np"
   ]
  },
  {
   "cell_type": "code",
   "execution_count": 4,
   "id": "5acb7e3a",
   "metadata": {},
   "outputs": [
    {
     "data": {
      "text/plain": [
       "[304, 438, 1197, 288, 64, 352, 508, 532, 134, 672, 806, 93, 9, 102, 854]"
      ]
     },
     "execution_count": 4,
     "metadata": {},
     "output_type": "execute_result"
    }
   ],
   "source": [
    "data_yr = {}\n",
    "for player in data:\n",
    "    for year in data[player][\"data\"][\"SEASON_ID\"]:\n",
    "        year_str = data[player][\"data\"][\"SEASON_ID\"][year]\n",
    "        if year_str not in data_yr:\n",
    "            data_yr[year_str] = {}\n",
    "        for stat in data[player][\"data\"]:\n",
    "            if stat not in [\"SEASON_ID\", \"LEAGUE_ID\", \"TEAM_ID\", \"TEAM_ABBREVIATION\"]:\n",
    "                if stat not in data_yr[year_str]:\n",
    "                    data_yr[year_str][stat] = []\n",
    "                data_yr[year_str][stat].append(data[player][\"data\"][stat][year])\n",
    "data_yr['2020-21']['PTS'][:15]"
   ]
  },
  {
   "cell_type": "code",
   "execution_count": 5,
   "id": "a003ceb7",
   "metadata": {},
   "outputs": [
    {
     "data": {
      "image/png": "[encoded data removed]",
      "text/plain": [
       "<Figure size 432x288 with 1 Axes>"
      ]
     },
     "metadata": {
      "needs_background": "light"
     },
     "output_type": "display_data"
    }
   ],
   "source": [
    "plt.title(\"2020-21 Total Points\")\n",
    "plt.hist(data_yr['2020-21']['PTS'], bins=30)\n",
    "plt.show()"
   ]
  },
  {
   "cell_type": "code",
   "execution_count": 6,
   "id": "0ead96eb",
   "metadata": {},
   "outputs": [
    {
     "data": {
      "image/png": "[encoded data removed]",
      "text/plain": [
       "<Figure size 432x288 with 1 Axes>"
      ]
     },
     "metadata": {
      "needs_background": "light"
     },
     "output_type": "display_data"
    }
   ],
   "source": [
    "plt.title(\"2020-21 Total Minutes Played\")\n",
    "plt.hist(data_yr['2020-21']['MIN'], bins=30)\n",
    "plt.show()"
   ]
  },
  {
   "cell_type": "code",
   "execution_count": 7,
   "id": "cbc303ed",
   "metadata": {},
   "outputs": [],
   "source": [
    "SCORING_TABLE = {}\n",
    "SCORING_TABLE['FG3M'] = 2\n",
    "SCORING_TABLE['FGM'] = 3\n",
    "SCORING_TABLE['FTM'] = 1\n",
    "SCORING_TABLE['FGMISS'] = -1\n",
    "SCORING_TABLE['FTMISS'] = -1\n",
    "SCORING_TABLE['REB'] = 1\n",
    "SCORING_TABLE['AST'] = 2\n",
    "SCORING_TABLE['STL'] = 4\n",
    "SCORING_TABLE['BLK'] = 4\n",
    "SCORING_TABLE['TOV'] = -2        "
   ]
  },
  {
   "cell_type": "code",
   "execution_count": 8,
   "id": "33b02426",
   "metadata": {},
   "outputs": [
    {
     "data": {
      "text/plain": [
       "{'2009-10': 2953,\n",
       " '2010-11': 2680,\n",
       " '2011-12': 845,\n",
       " '2012-13': 3357,\n",
       " '2013-14': 3661,\n",
       " '2014-15': 3919,\n",
       " '2015-16': 4448,\n",
       " '2016-17': 3752,\n",
       " '2017-18': 2453,\n",
       " '2018-19': 3310,\n",
       " '2019-20': 188,\n",
       " '2020-21': 3255,\n",
       " '2021-22': 858}"
      ]
     },
     "execution_count": 8,
     "metadata": {},
     "output_type": "execute_result"
    }
   ],
   "source": [
    "def player_fantasy_pts(player):\n",
    "    ppy = {}\n",
    "    for year in player['data']['SEASON_ID']:\n",
    "        total = 0\n",
    "        p = player['data']\n",
    "        # 3-pointer made\n",
    "        total += SCORING_TABLE['FG3M'] * p['FG3M'][year]\n",
    "        # 2-pointer made\n",
    "        total += SCORING_TABLE['FGM'] * p['FGM'][year]\n",
    "        # Free throw made\n",
    "        total += SCORING_TABLE['FTM'] * p['FTM'][year]\n",
    "        # Field goal missed\n",
    "        total += SCORING_TABLE['FGMISS'] * (p['FGA'][year] - p['FGM'][year])\n",
    "        # Free throw missed\n",
    "        total += SCORING_TABLE['FTMISS'] * (p['FTA'][year] - p['FTM'][year])\n",
    "        # Rebound\n",
    "        total += SCORING_TABLE['REB'] * p['REB'][year]\n",
    "        # Assist\n",
    "        total += SCORING_TABLE['AST'] * p['AST'][year]\n",
    "        # Steal\n",
    "        total += SCORING_TABLE['STL'] * p['STL'][year]\n",
    "        # Block\n",
    "        total += SCORING_TABLE['BLK'] * p['BLK'][year]\n",
    "        # Turnover\n",
    "        total += SCORING_TABLE['TOV'] * p['TOV'][year]\n",
    "        \n",
    "        ppy[player['data']['SEASON_ID'][year]] = total\n",
    "        \n",
    "    return ppy\n",
    "\n",
    "# Stephen Curry\n",
    "player_fantasy_pts(data[\"201939\"])"
   ]
  },
  {
   "cell_type": "code",
   "execution_count": 9,
   "id": "860273e0",
   "metadata": {},
   "outputs": [
    {
     "data": {
      "text/plain": [
       "{'2009-10': 2953,\n",
       " '2010-11': 2680,\n",
       " '2011-12': 845,\n",
       " '2012-13': 3357,\n",
       " '2013-14': 3661,\n",
       " '2014-15': 3919,\n",
       " '2015-16': 4448,\n",
       " '2016-17': 3752,\n",
       " '2017-18': 2453,\n",
       " '2018-19': 3310,\n",
       " '2019-20': 188,\n",
       " '2020-21': 3255,\n",
       " '2021-22': 858}"
      ]
     },
     "execution_count": 9,
     "metadata": {},
     "output_type": "execute_result"
    }
   ],
   "source": [
    "fantasy_ppy = {}\n",
    "for player in data:\n",
    "    fantasy_ppy[player] = player_fantasy_pts(data[player])\n",
    "# Stephen Curry\n",
    "fantasy_ppy[\"201939\"]"
   ]
  },
  {
   "cell_type": "code",
   "execution_count": 10,
   "id": "8a2f284a",
   "metadata": {},
   "outputs": [
    {
     "data": {
      "image/png": "[encoded data removed]",
      "text/plain": [
       "<Figure size 432x288 with 1 Axes>"
      ]
     },
     "metadata": {
      "needs_background": "light"
     },
     "output_type": "display_data"
    }
   ],
   "source": [
    "plt.title(\"2020-21 Total Fantasy Points\")\n",
    "year = '2020-21'\n",
    "x = [fantasy_ppy[player][year] for player in fantasy_ppy if year in fantasy_ppy[player]]\n",
    "plt.hist(x, bins=30)\n",
    "plt.show()"
   ]
  },
  {
   "cell_type": "code",
   "execution_count": 11,
   "id": "8048fb7b",
   "metadata": {
    "scrolled": true
   },
   "outputs": [
    {
     "data": {
      "text/plain": [
       "'mean: 1065.2980132450332'"
      ]
     },
     "execution_count": 11,
     "metadata": {},
     "output_type": "execute_result"
    }
   ],
   "source": [
    "f\"mean: {np.mean(x)}\""
   ]
  },
  {
   "cell_type": "code",
   "execution_count": 12,
   "id": "807daa1f",
   "metadata": {},
   "outputs": [
    {
     "data": {
      "text/plain": [
       "'stdev: 776.9247050266976'"
      ]
     },
     "execution_count": 12,
     "metadata": {},
     "output_type": "execute_result"
    }
   ],
   "source": [
    "f\"stdev: {np.std(x)}\""
   ]
  },
  {
   "cell_type": "code",
   "execution_count": 13,
   "id": "27fd94aa",
   "metadata": {},
   "outputs": [],
   "source": [
    "POINTS_TO_WIN = 35_000\n",
    "SALARY = 200\n",
    "NUM_PLAYERS = 13"
   ]
  },
  {
   "cell_type": "code",
   "execution_count": 14,
   "id": "3acc1bd2",
   "metadata": {},
   "outputs": [
    {
     "data": {
      "text/plain": [
       "'POINTS PER DOLLAR SPENT: 175.0'"
      ]
     },
     "execution_count": 14,
     "metadata": {},
     "output_type": "execute_result"
    }
   ],
   "source": [
    "POINTS_PER_DOLLAR = POINTS_TO_WIN / SALARY\n",
    "f'POINTS PER DOLLAR SPENT: {POINTS_PER_DOLLAR}'"
   ]
  },
  {
   "cell_type": "code",
   "execution_count": 15,
   "id": "8451abf3",
   "metadata": {},
   "outputs": [
    {
     "data": {
      "text/plain": [
       "'COST PER POINT: $0.005714285714285714'"
      ]
     },
     "execution_count": 15,
     "metadata": {},
     "output_type": "execute_result"
    }
   ],
   "source": [
    "COST_PER_POINT = SALARY / POINTS_TO_WIN\n",
    "f'COST PER POINT: ${COST_PER_POINT}'"
   ]
  },
  {
   "cell_type": "code",
   "execution_count": 16,
   "id": "37f23afc",
   "metadata": {},
   "outputs": [
    {
     "data": {
      "image/png": "[encoded data removed]",
      "text/plain": [
       "<Figure size 432x288 with 1 Axes>"
      ]
     },
     "metadata": {
      "needs_background": "light"
     },
     "output_type": "display_data"
    }
   ],
   "source": [
    "plt.title(\"Stephen Curry Total Fantasy Points Per Year (Line of Best Fit \\ 21-22)\")\n",
    "x = [k.split(\"-\")[0][-2:] for k in fantasy_ppy['201939']]\n",
    "xi = np.array([int(z) for z in x])\n",
    "y = np.array(list(fantasy_ppy['201939'].values()))\n",
    "plt.plot(xi, y)\n",
    "m, b = np.polyfit(xi[:-1], y[:-1], 1)\n",
    "plt.plot(xi, xi * m + b)\n",
    "y2 = np.array(list(data['201939']['data']['MIN'].values()))\n",
    "plt.plot(xi, y2)\n",
    "plt.show()"
   ]
  },
  {
   "cell_type": "code",
   "execution_count": 17,
   "id": "9eb5caf2",
   "metadata": {},
   "outputs": [],
   "source": [
    "def get_roster(values, weights, W, K):\n",
    "    dp = []\n",
    "    pl = []\n",
    "    for i in range(len(values)):\n",
    "        dp.append([])\n",
    "        pl.append([])\n",
    "        for j in range(W+1):\n",
    "            dp[i].append([])\n",
    "            pl[i].append([])\n",
    "            for k in range(K+1):\n",
    "                dp[i][j].append(0)\n",
    "                pl[i][j].append([])\n",
    "    for i in range(1, len(values)):\n",
    "        for j in range(1, W+1):\n",
    "            for k in range(1, K+1):\n",
    "                if (j >= weights[i-1]):\n",
    "                    if dp[i-1][j][k] > dp[i-1][j-weights[i-1]][k-1] + values[i-1]:\n",
    "                        dp[i][j][k] = dp[i-1][j][k]\n",
    "                        pl[i][j][k] += pl[i-1][j][k]\n",
    "                    else:\n",
    "                        dp[i][j][k] = dp[i-1][j-weights[i-1]][k-1] + values[i-1]\n",
    "                        pl[i][j][k] += pl[i-1][j-weights[i-1]][k-1] + [i-1]\n",
    "                else:\n",
    "                    dp[i][j][k] = dp[i-1][j][k]\n",
    "                    pl[i][j][k] += pl[i-1][j][k]\n",
    "    return dp[len(values)-1][W][K], pl[len(values)-1][-1][-1]"
   ]
  },
  {
   "cell_type": "code",
   "execution_count": 18,
   "id": "c8ffe7fd",
   "metadata": {},
   "outputs": [],
   "source": [
    "prop_costs = {}\n",
    "# round((fantasy_ppy[player][train_year] / POINTS_TO_WIN) * SALARY\n",
    "for player in fantasy_ppy:\n",
    "    if \"2020-21\" in fantasy_ppy[player]:\n",
    "        prop_costs[player] = round((fantasy_ppy[player][\"2020-21\"] / POINTS_TO_WIN) * SALARY)"
   ]
  },
  {
   "cell_type": "code",
   "execution_count": 19,
   "id": "79842038",
   "metadata": {},
   "outputs": [
    {
     "data": {
      "text/plain": [
       "('Precious Achiuwa', 642, 4)"
      ]
     },
     "execution_count": 19,
     "metadata": {},
     "output_type": "execute_result"
    }
   ],
   "source": [
    "points = []\n",
    "cost = []\n",
    "players = []\n",
    "train_year = \"2020-21\"\n",
    "test_year = \"2021-22\"\n",
    "\n",
    "def get_name(player):\n",
    "    return data[player]['first_name'] + \" \" + data[player]['last_name']\n",
    "\n",
    "for player in fantasy_ppy:\n",
    "    if train_year in fantasy_ppy[player]:\n",
    "        players.append(player)\n",
    "        points.append(fantasy_ppy[player][train_year])\n",
    "        cost.append(prop_costs[player])\n",
    "assert len(points) == len(cost) == len(players)\n",
    "get_name(players[0]), points[0], cost[0]"
   ]
  },
  {
   "cell_type": "code",
   "execution_count": 20,
   "id": "eb6f3be1",
   "metadata": {},
   "outputs": [
    {
     "name": "stdout",
     "output_type": "stream",
     "text": [
      "Roster for 2021-22 based on 2020-21 data\n",
      "2341pts, $13, Deandre Ayton\n",
      "2537pts, $14, Clint Capela\n",
      "3337pts, $19, Luka Doncic\n",
      "2361pts, $13, Tobias Harris\n",
      "2695pts, $15, Kyrie Irving\n",
      "4215pts, $24, Nikola Jokic\n",
      "2180pts, $12, Michael Porter Jr.\n",
      "2870pts, $16, Domantas Sabonis\n",
      "2179pts, $12, Pascal Siakam\n",
      "2338pts, $13, Jonas Valanciunas\n",
      "3339pts, $19, Russell Westbrook\n",
      "2671pts, $15, Zion Williamson\n",
      "2701pts, $15, Trae Young\n",
      "Total Points: 35764\n"
     ]
    }
   ],
   "source": [
    "total_points, roster = get_roster(points, cost, SALARY, NUM_PLAYERS)\n",
    "print(f\"Roster for {test_year} based on {train_year} data\")\n",
    "for p in roster:\n",
    "    print(f'{points[p]}pts, ${cost[p]}, {get_name(players[p])}')\n",
    "print(f\"Total Points: {total_points}\")"
   ]
  },
  {
   "cell_type": "code",
   "execution_count": 21,
   "id": "879767eb",
   "metadata": {},
   "outputs": [
    {
     "name": "stdout",
     "output_type": "stream",
     "text": [
      "Actual points for 2021-22 for above roster\n",
      "406, $13, Deandre Ayton\n",
      "583, $14, Clint Capela\n",
      "655, $19, Luka Doncic\n",
      "407, $13, Tobias Harris\n",
      "818, $24, Nikola Jokic\n",
      "183, $12, Michael Porter Jr.\n",
      "724, $16, Domantas Sabonis\n",
      "238, $12, Pascal Siakam\n",
      "747, $13, Jonas Valanciunas\n",
      "753, $19, Russell Westbrook\n",
      "764, $15, Trae Young\n",
      "Total Points: 6278\n"
     ]
    }
   ],
   "source": [
    "print(f\"Actual points for {test_year} for above roster\")\n",
    "total = 0\n",
    "for p in roster:\n",
    "    if test_year in fantasy_ppy[players[p]]:\n",
    "        total += fantasy_ppy[players[p]][test_year]\n",
    "        print(f\"{fantasy_ppy[players[p]][test_year]}, ${cost[p]}, {get_name(players[p])}\")\n",
    "print(f\"Total Points: {total}\")"
   ]
  },
  {
   "cell_type": "code",
   "execution_count": 22,
   "id": "d55a3568",
   "metadata": {},
   "outputs": [
    {
     "data": {
      "text/plain": [
       "64.8"
      ]
     },
     "execution_count": 22,
     "metadata": {},
     "output_type": "execute_result"
    }
   ],
   "source": [
    "# Using ESPN cost values (2021-22 season)\n",
    "import csv\n",
    "espn_costs = {}\n",
    "\n",
    "def name_to_player(name):\n",
    "    name = name.strip().replace(\".\", \"\").replace(\"-\",\"\").replace(\" \", \"\")\n",
    "    for player in data:\n",
    "        name2 = data[player][\"first_name\"] + data[player][\"last_name\"]\n",
    "        name2 = name2.strip().replace(\".\", \"\").replace(\"-\",\"\").replace(\" \", \"\")\n",
    "        if name == name2:\n",
    "            return player\n",
    "    print(name)\n",
    "    return -1\n",
    "\n",
    "with open('espn_cost.csv', 'r') as file:\n",
    "    reader = csv.reader(file)\n",
    "    reader = list(reader)\n",
    "    for row in reader:\n",
    "        player = row[1]\n",
    "        cost = row[-1][1:]\n",
    "        if not cost:\n",
    "            cost = 0\n",
    "        cost = float(cost)\n",
    "        player = name_to_player(player)\n",
    "        espn_costs[player] = cost\n",
    "\n",
    "for player in fantasy_ppy:\n",
    "    if \"2020-21\" in fantasy_ppy[player]:\n",
    "        if player not in espn_costs:\n",
    "            espn_costs[player] = 0\n",
    "# Stephen Curry\n",
    "espn_costs[\"201939\"]"
   ]
  },
  {
   "cell_type": "code",
   "execution_count": 23,
   "id": "1dcc9dea",
   "metadata": {},
   "outputs": [],
   "source": [
    "cost = []\n",
    "players = []\n",
    "points = []\n",
    "margin = 0.95\n",
    "minimum = 5\n",
    "exclude = [\"Kawhi Leonard\", \"Kyrie Irving\"]\n",
    "exclude = [name_to_player(e) for e in exclude if name_to_player(e) != -1]\n",
    "train_year = \"2020-21\"\n",
    "test_year = \"2021-22\"\n",
    "for player in fantasy_ppy:\n",
    "    if train_year in fantasy_ppy[player] and player not in exclude:\n",
    "        players.append(player)\n",
    "        points.append(fantasy_ppy[player][train_year])\n",
    "        cost.append(max(round(espn_costs[player] * margin), minimum))\n",
    "assert len(points) == len(cost) == len(players)"
   ]
  },
  {
   "cell_type": "code",
   "execution_count": 24,
   "id": "e0943a40",
   "metadata": {},
   "outputs": [
    {
     "name": "stdout",
     "output_type": "stream",
     "text": [
      "Roster for 2021-22 based on 2020-21 data\n",
      "2154pts, $5, Kyle Anderson\n",
      "2195pts, $5, Mikal Bridges\n",
      "2236pts, $10, Draymond Green\n",
      "2216pts, $6, Buddy Hield\n",
      "4215pts, $69, Nikola Jokic\n",
      "2156pts, $5, T.J. McConnell\n",
      "2145pts, $5, Kelly Olynyk\n",
      "2954pts, $20, Chris Paul\n",
      "3098pts, $32, Julius Randle\n",
      "2562pts, $8, Terry Rozier\n",
      "2338pts, $5, Jonas Valanciunas\n",
      "3339pts, $25, Russell Westbrook\n",
      "2321pts, $5, Andrew Wiggins\n",
      "Total Points: 33929\n",
      "\n",
      "Actual points for 2021-22 (so far) for above roster\n",
      "375pts (1500), $5, Kyle Anderson\n",
      "475pts (1900), $5, Mikal Bridges\n",
      "533pts (2132), $10, Draymond Green\n",
      "485pts (1940), $6, Buddy Hield\n",
      "818pts (3272), $69, Nikola Jokic\n",
      "495pts (1980), $5, T.J. McConnell\n",
      "270pts (1080), $5, Kelly Olynyk\n",
      "750pts (3000), $20, Chris Paul\n",
      "678pts (2712), $32, Julius Randle\n",
      "378pts (1512), $8, Terry Rozier\n",
      "747pts (2988), $5, Jonas Valanciunas\n",
      "753pts (3012), $25, Russell Westbrook\n",
      "493pts (1972), $5, Andrew Wiggins\n",
      "Total Points: 7250, 29000\n"
     ]
    }
   ],
   "source": [
    "total_points, roster = get_roster(points, cost, SALARY, NUM_PLAYERS)\n",
    "print(f\"Roster for {test_year} based on {train_year} data\")\n",
    "for p in roster:\n",
    "    print(f'{points[p]}pts, ${cost[p]}, {get_name(players[p])}')\n",
    "print(f\"Total Points: {total_points}\\n\")\n",
    "\n",
    "print(f\"Actual points for {test_year} (so far) for above roster\")\n",
    "total = 0\n",
    "for p in roster:\n",
    "    if test_year in fantasy_ppy[players[p]]:\n",
    "        total += fantasy_ppy[players[p]][test_year]\n",
    "        print(f\"{fantasy_ppy[players[p]][test_year]}pts ({fantasy_ppy[players[p]][test_year] * 4}), ${cost[p]}, {get_name(players[p])}\")\n",
    "print(f\"Total Points: {total}, {total * 4}\")"
   ]
  },
  {
   "cell_type": "code",
   "execution_count": 25,
   "id": "5e110367",
   "metadata": {},
   "outputs": [
    {
     "name": "stdout",
     "output_type": "stream",
     "text": [
      "False -6.0 Enes Kanter 0.0% 6.0%\n",
      "False -6.0 Thaddeus Young 0.0% 6.0%\n",
      "True -5.9 Kawhi Leonard 1.1% 7.0%\n",
      "True -5.8 Kyle Anderson 0.2% 6.0%\n",
      "True -5.6 T.J. McConnell 0.4% 6.0%\n",
      "False -5.5 Kelly Olynyk 0.5% 6.0%\n",
      "False -5.5 Coby White 0.0% 5.5%\n",
      "False -5.2 Jamal Murray 0.3% 5.5%\n",
      "False -5.0 Jae'Sean Tate 0.0% 5.0%\n",
      "False -5.0 Delon Wright 0.0% 5.0%\n",
      "False -4.9 Dillon Brooks 0.1% 5.0%\n",
      "False -4.9 Danny Green 0.1% 5.0%\n",
      "False -4.9 Kevin Huerter 0.1% 5.0%\n",
      "True -4.8 Mikal Bridges 1.7% 6.5%\n",
      "False -4.8 Ricky Rubio 0.2% 5.0%\n",
      "False -4.8 Mason Plumlee 0.2% 5.0%\n",
      "False -4.8 Joe Ingles 0.7% 5.5%\n",
      "False -4.7 Duncan Robinson 0.3% 5.0%\n",
      "False -4.6 Jordan Clarkson 0.9% 5.5%\n",
      "False -4.5 Nicolas Batum 0.0% 4.5%\n",
      "False -4.5 Royce O'Neale 0.0% 4.5%\n",
      "False -4.5 Robert Covington 1.0% 5.5%\n",
      "False -4.5 Jalen Brunson 0.0% 4.5%\n",
      "False -4.5 Justin Holiday 0.0% 4.5%\n",
      "False -4.5 Brandon Clarke 0.0% 4.5%\n",
      "False -4.5 Kendrick Nunn 0.0% 4.5%\n",
      "False -4.5 Naz Reid 0.0% 4.5%\n",
      "False -4.5 Daniel Theis 0.0% 4.5%\n",
      "False -4.4 Nerlens Noel 0.1% 4.5%\n",
      "False -4.4 Kelly Oubre Jr. 0.1% 4.5%\n",
      "False -4.4 P.J. Washington 1.1% 5.5%\n",
      "False -4.4 Joe Harris 0.6% 5.0%\n",
      "False -4.3 Bobby Portis 0.2% 4.5%\n",
      "False -4.3 Norman Powell 1.2% 5.5%\n",
      "False -4.3 Dennis Schroder 0.7% 5.0%\n",
      "False -4.3 Brook Lopez 0.7% 5.0%\n",
      "False -4.3 Tim Hardaway Jr. 0.7% 5.0%\n",
      "False -4.3 Bojan Bogdanovic 0.7% 5.0%\n",
      "False -4.3 Eric Bledsoe 0.7% 5.0%\n",
      "False -4.2 Harrison Barnes 0.8% 5.0%\n",
      "False -4.1 Miles Bridges 0.9% 5.0%\n",
      "False -4.1 Carmelo Anthony 0.4% 4.5%\n",
      "True -4.1 Andrew Wiggins 2.4% 6.5%\n",
      "False -4.1 Donte DiVincenzo 0.4% 4.5%\n",
      "False -4.0 Shake Milton 0.0% 4.0%\n",
      "False -4.0 Dorian Finney-Smith 0.0% 4.0%\n",
      "False -4.0 Kentavious Caldwell-Pope 0.0% 4.0%\n",
      "False -4.0 Andre Drummond 0.5% 4.5%\n",
      "False -4.0 Bruce Brown 0.0% 4.0%\n",
      "False -4.0 Steven Adams 0.0% 4.0%\n",
      "False -4.0 Khem Birch 0.0% 4.0%\n",
      "False -4.0 Reggie Bullock 0.0% 4.0%\n",
      "False -4.0 Jae Crowder 0.0% 4.0%\n",
      "False -4.0 Rudy Gay 0.0% 4.0%\n",
      "False -4.0 Jeff Green 0.0% 4.0%\n",
      "False -4.0 Josh Jackson 0.0% 4.0%\n",
      "False -4.0 Josh Richardson 0.0% 4.0%\n",
      "False -4.0 John Wall 0.0% 4.0%\n",
      "False -4.0 Patrick Williams 0.0% 4.0%\n",
      "True -3.9 Jonas Valanciunas 2.6% 6.5%\n",
      "False -3.9 Will Barton 0.1% 4.0%\n",
      "False -3.9 Gary Trent Jr. 0.1% 4.0%\n",
      "False -3.9 Saddiq Bey 0.6% 4.5%\n",
      "False -3.9 Rui Hachimura 0.1% 4.0%\n",
      "False -3.9 Doug McDermott 0.1% 4.0%\n",
      "False -3.8 RJ Barrett 2.2% 6.0%\n",
      "False -3.7 Kyle Kuzma 0.8% 4.5%\n",
      "False -3.7 Seth Curry 0.3% 4.0%\n",
      "False -3.7 Derrick Rose 0.3% 4.0%\n",
      "False -3.7 Ivica Zubac 0.8% 4.5%\n",
      "False -3.7 Chris Boucher 1.8% 5.5%\n",
      "False -3.6 Mike Conley 1.4% 5.0%\n",
      "False -3.5 Richaun Holmes 2.5% 6.0%\n",
      "True -3.5 Buddy Hield 3.0% 6.5%\n",
      "False -3.5 Devonte' Graham 1.0% 4.5%\n",
      "False -3.5 Desmond Bane 0.0% 3.5%\n",
      "False -3.5 Pat Connaughton 0.0% 3.5%\n",
      "False -3.5 Cedi Osman 0.0% 3.5%\n",
      "False -3.5 Raul Neto 0.0% 3.5%\n",
      "False -3.5 Dwayne Bacon 0.0% 3.5%\n",
      "False -3.5 Kent Bazemore 0.0% 3.5%\n",
      "False -3.5 Darius Bazley 0.0% 3.5%\n",
      "False -3.5 Alec Burks 0.0% 3.5%\n",
      "False -3.5 Facundo Campazzo 0.0% 3.5%\n",
      "False -3.5 Derrick Favors 0.0% 3.5%\n",
      "False -3.5 Danilo Gallinari 0.0% 3.5%\n",
      "False -3.5 Dwight Howard 0.0% 3.5%\n",
      "False -3.5 Tyus Jones 0.0% 3.5%\n",
      "False -3.5 DeAndre Jordan 0.0% 3.5%\n",
      "False -3.5 Cory Joseph 0.0% 3.5%\n",
      "False -3.5 Robin Lopez 0.0% 3.5%\n",
      "False -3.5 Theo Maledon 0.0% 3.5%\n",
      "False -3.5 Patty Mills 0.0% 3.5%\n",
      "False -3.5 Paul Millsap 0.0% 3.5%\n",
      "False -3.5 Marcus Morris Sr. 0.0% 3.5%\n",
      "False -3.5 Isaac Okoro 0.0% 3.5%\n",
      "False -3.5 Cameron Payne 0.0% 3.5%\n",
      "False -3.5 Elfrid Payton 0.0% 3.5%\n",
      "False -3.5 Immanuel Quickley 0.0% 3.5%\n",
      "False -3.5 Isaiah Roby 0.0% 3.5%\n",
      "False -3.5 Terrence Ross 0.0% 3.5%\n",
      "False -3.5 Tomas Satoransky 0.0% 3.5%\n",
      "False -3.5 Jarred Vanderbilt 0.0% 3.5%\n",
      "False -3.5 Kenrich Williams 0.0% 3.5%\n",
      "False -3.5 Lou Williams 0.0% 3.5%\n",
      "False -3.4 Matisse Thybulle 0.1% 3.5%\n",
      "False -3.4 Keldon Johnson 1.1% 4.5%\n",
      "False -3.4 De'Anthony Melton 0.1% 3.5%\n",
      "False -3.4 Talen Horton-Tucker 0.1% 3.5%\n",
      "False -3.4 Goran Dragic 0.1% 3.5%\n",
      "True -3.3 Terry Rozier 4.2% 7.5%\n",
      "False -3.3 Reggie Jackson 0.7% 4.0%\n",
      "False -3.2 Aaron Gordon 0.3% 3.5%\n",
      "False -3.1 Darius Garland 1.9% 5.0%\n",
      "False -3.1 Tyler Herro 0.9% 4.0%\n",
      "False -3.1 Marcus Smart 0.9% 4.0%\n",
      "True -3.0 Malcolm Brogdon 3.5% 6.5%\n",
      "False -3.0 Grayson Allen 0.0% 3.0%\n",
      "False -3.0 Wendell Carter Jr. 1.0% 4.0%\n",
      "False -3.0 Josh Hart 0.0% 3.0%\n",
      "False -3.0 Juan Toscano-Anderson 0.0% 3.0%\n",
      "False -3.0 Maxi Kleber 0.0% 3.0%\n",
      "False -3.0 Luke Kennard 0.0% 3.0%\n",
      "False -3.0 Cameron Johnson 0.0% 3.0%\n",
      "False -3.0 Lonnie Walker IV 0.0% 3.0%\n",
      "False -3.0 Jaden McDaniels 0.0% 3.0%\n",
      "False -3.0 Marvin Bagley III 0.0% 3.0%\n",
      "False -3.0 Malik Beasley 0.0% 3.0%\n",
      "False -3.0 Davis Bertans 0.0% 3.0%\n",
      "False -3.0 Moses Brown 0.0% 3.0%\n",
      "False -3.0 Terence Davis 0.0% 3.0%\n",
      "False -3.0 Hamidou Diallo 0.0% 3.0%\n",
      "False -3.0 Bryn Forbes 0.0% 3.0%\n",
      "False -3.0 JaMychal Green 0.0% 3.0%\n",
      "False -3.0 Jaxson Hayes 0.0% 3.0%\n",
      "False -3.0 Serge Ibaka 0.0% 3.0%\n",
      "False -3.0 Andre Iguodala 0.0% 3.0%\n",
      "False -3.0 Derrick Jones Jr. 0.0% 3.0%\n",
      "False -3.0 Alex Len 0.0% 3.0%\n",
      "False -3.0 KJ Martin 0.0% 3.0%\n",
      "False -3.0 Svi Mykhailiuk 0.0% 3.0%\n",
      "False -3.0 Larry Nance Jr. 0.0% 3.0%\n",
      "False -3.0 Payton Pritchard 0.0% 3.0%\n",
      "False -3.0 Landry Shamet 0.0% 3.0%\n",
      "False -3.0 Garrett Temple 0.0% 3.0%\n",
      "False -3.0 Tristan Thompson 0.0% 3.0%\n",
      "False -3.0 Xavier Tillman Sr. 0.0% 3.0%\n",
      "False -3.0 Cody Zeller 0.0% 3.0%\n",
      "False -2.9 Cole Anthony 0.1% 3.0%\n",
      "False -2.9 Lauri Markkanen 0.6% 3.5%\n",
      "False -2.9 Victor Oladipo 0.1% 3.0%\n",
      "False -2.9 Luguentz Dort 0.1% 3.0%\n",
      "False -2.9 Terance Mann 0.1% 3.0%\n",
      "False -2.9 Monte Morris 0.1% 3.0%\n",
      "False -2.9 Blake Griffin 0.1% 3.0%\n",
      "False -2.8 Gordon Hayward 1.7% 4.5%\n",
      "False -2.8 Evan Fournier 0.7% 3.5%\n",
      "False -2.8 Daniel Gafford 0.2% 3.0%\n",
      "False -2.8 Alex Caruso 0.2% 3.0%\n",
      "False -2.7 Bogdan Bogdanovic 1.3% 4.0%\n",
      "False -2.7 Isaiah Stewart 1.8% 4.5%\n",
      "False -2.5 Devin Vassell 0.0% 2.5%\n",
      "False -2.5 Dwight Powell 0.0% 2.5%\n",
      "False -2.5 Furkan Korkmaz 0.0% 2.5%\n",
      "False -2.5 Damion Lee 0.0% 2.5%\n",
      "False -2.5 Josh Okogie 0.0% 2.5%\n",
      "False -2.5 D.J. Augustin 0.0% 2.5%\n",
      "False -2.5 Deni Avdija 0.0% 2.5%\n",
      "False -2.5 DeAndre' Bembry 0.0% 2.5%\n",
      "False -2.5 Sterling Brown 0.0% 2.5%\n",
      "False -2.5 Willie Cauley-Stein 0.0% 2.5%\n",
      "False -2.5 PJ Dozier 0.0% 2.5%\n",
      "False -2.5 Drew Eubanks 0.0% 2.5%\n",
      "False -2.5 Malachi Flynn 0.0% 2.5%\n",
      "False -2.5 Taj Gibson 0.0% 2.5%\n",
      "False -2.5 Willy Hernangomez 0.0% 2.5%\n",
      "False -2.5 Solomon Hill 0.0% 2.5%\n",
      "False -2.5 Aaron Holiday 0.0% 2.5%\n",
      "False -2.5 James Johnson 0.0% 2.5%\n",
      "False -2.5 Jeremy Lamb 0.0% 2.5%\n",
      "False -2.5 Kevon Looney 0.0% 2.5%\n",
      "False -2.5 JaVale McGee 0.0% 2.5%\n",
      "False -2.5 Jordan McLaughlin 0.0% 2.5%\n",
      "False -2.5 Markieff Morris 0.0% 2.5%\n",
      "False -2.5 Georges Niang 0.0% 2.5%\n",
      "False -2.5 Chuma Okeke 0.0% 2.5%\n",
      "False -2.5 Anfernee Simons 0.0% 2.5%\n",
      "False -2.5 Ish Smith 0.0% 2.5%\n",
      "False -2.5 Denzel Valentine 0.0% 2.5%\n",
      "False -2.5 Dean Wade 0.0% 2.5%\n",
      "False -2.5 James Wiseman 0.0% 2.5%\n",
      "False -2.4 Jakob Poeltl 3.1% 5.5%\n",
      "False -2.4 Tyrese Maxey 0.1% 2.5%\n",
      "False -2.3 Al Horford 0.2% 2.5%\n",
      "False -2.3 Mo Bamba 0.2% 2.5%\n",
      "False -2.1 Jarrett Allen 3.4% 5.5%\n",
      "False -2.1 Tyrese Haliburton 3.4% 5.5%\n",
      "False -2.1 Jerami Grant 3.4% 5.5%\n",
      "False -2.0 Patrick Beverley 0.0% 2.0%\n",
      "False -2.0 Kemba Walker 2.5% 4.5%\n",
      "False -2.0 Eric Gordon 0.0% 2.0%\n",
      "False -2.0 P.J. Tucker 0.0% 2.0%\n",
      "False -2.0 Cody Martin 0.0% 2.0%\n",
      "False -2.0 Precious Achiuwa 0.0% 2.0%\n",
      "False -2.0 Trevor Ariza 0.0% 2.0%\n",
      "False -2.0 Goga Bitadze 0.0% 2.0%\n",
      "False -2.0 Tony Bradley 0.0% 2.0%\n",
      "False -2.0 Trey Burke 0.0% 2.0%\n",
      "False -2.0 Jevon Carter 0.0% 2.0%\n",
      "False -2.0 Michael Carter-Williams 0.0% 2.0%\n",
      "False -2.0 Nicolas Claxton 0.0% 2.0%\n",
      "False -2.0 Torrey Craig 0.0% 2.0%\n",
      "False -2.0 Gorgui Dieng 0.0% 2.0%\n",
      "False -2.0 Wayne Ellington 0.0% 2.0%\n",
      "False -2.0 R.J. Hampton 0.0% 2.0%\n",
      "False -2.0 Gary Harris 0.0% 2.0%\n",
      "False -2.0 Isaiah Hartenstein 0.0% 2.0%\n",
      "False -2.0 Juancho Hernangomez 0.0% 2.0%\n",
      "False -2.0 Danuel House Jr. 0.0% 2.0%\n",
      "False -2.0 De'Andre Hunter 0.0% 2.0%\n",
      "False -2.0 Ty Jerome 0.0% 2.0%\n",
      "False -2.0 Stanley Johnson 0.0% 2.0%\n",
      "False -2.0 Frank Kaminsky 0.0% 2.0%\n",
      "False -2.0 Saben Lee 0.0% 2.0%\n",
      "False -2.0 Kira Lewis Jr. 0.0% 2.0%\n",
      "False -2.0 Kevin Love 0.0% 2.0%\n",
      "False -2.0 Timothe Luwawu-Cabarrot 0.0% 2.0%\n",
      "False -2.0 Caleb Martin 0.0% 2.0%\n",
      "False -2.0 Garrison Mathews 0.0% 2.0%\n",
      "False -2.0 Jalen McDaniels 0.0% 2.0%\n",
      "False -2.0 Ben McLemore 0.0% 2.0%\n",
      "False -2.0 Malik Monk 0.0% 2.0%\n",
      "False -2.0 Jaylen Nowell 0.0% 2.0%\n",
      "False -2.0 David Nwaba 0.0% 2.0%\n",
      "False -2.0 Onyeka Okongwu 0.0% 2.0%\n",
      "False -2.0 Aleksej Pokusevski 0.0% 2.0%\n",
      "False -2.0 Taurean Prince 0.0% 2.0%\n",
      "False -2.0 Rajon Rondo 0.0% 2.0%\n",
      "False -2.0 Dario Saric 0.0% 2.0%\n",
      "False -2.0 Edmond Sumner 0.0% 2.0%\n",
      "False -2.0 Moritz Wagner 0.0% 2.0%\n",
      "False -2.0 Hassan Whiteside 0.0% 2.0%\n",
      "False -2.0 Grant Williams 0.0% 2.0%\n",
      "False -1.9 LaMarcus Aldridge 0.1% 2.0%\n",
      "False -1.8 Jordan Poole 0.7% 2.5%\n",
      "False -1.8 Nickeil Alexander-Walker 1.2% 3.0%\n",
      "False -1.7 Mitchell Robinson 0.8% 2.5%\n",
      "False -1.6 Myles Turner 3.4% 5.0%\n",
      "False -1.6 John Collins 4.4% 6.0%\n",
      "True -1.5 Kyrie Irving 6.0% 7.5%\n",
      "True -1.5 Draymond Green 5.0% 6.5%\n",
      "False -1.5 Nassir Little 0.0% 1.5%\n",
      "False -1.5 Obi Toppin 0.0% 1.5%\n",
      "False -1.5 Nemanja Bjelica 0.0% 1.5%\n",
      "False -1.5 Oshae Brissett 0.0% 1.5%\n",
      "False -1.5 Sekou Doumbouya 0.0% 1.5%\n",
      "False -1.5 Maurice Harkless 0.0% 1.5%\n",
      "False -1.5 Killian Hayes 0.0% 1.5%\n",
      "False -1.5 George Hill 0.0% 1.5%\n",
      "False -1.5 Rodney Hood 0.0% 1.5%\n",
      "False -1.5 Frank Jackson 0.0% 1.5%\n",
      "False -1.5 Damian Jones 0.0% 1.5%\n",
      "False -1.5 John Konchar 0.0% 1.5%\n",
      "False -1.5 Jake Layman 0.0% 1.5%\n",
      "False -1.5 Naji Marshall 0.0% 1.5%\n",
      "False -1.5 Chimezie Metu 0.0% 1.5%\n",
      "False -1.5 Mychal Mulder 0.0% 1.5%\n",
      "False -1.5 Mike Muscala 0.0% 1.5%\n",
      "False -1.5 Aaron Nesmith 0.0% 1.5%\n",
      "False -1.5 Semi Ojeleye 0.0% 1.5%\n",
      "False -1.5 Eric Paschall 0.0% 1.5%\n",
      "False -1.5 Chasson Randle 0.0% 1.5%\n",
      "False -1.5 Austin Rivers 0.0% 1.5%\n",
      "False -1.5 Dennis Smith Jr. 0.0% 1.5%\n",
      "False -1.5 Tony Snell 0.0% 1.5%\n",
      "False -1.5 Gabe Vincent 0.0% 1.5%\n",
      "False -1.5 Yuta Watanabe 0.0% 1.5%\n",
      "False -1.4 Otto Porter Jr. 0.1% 1.5%\n",
      "False -1.4 Cam Reddish 0.1% 1.5%\n",
      "False -1.3 Kyle Lowry 3.7% 5.0%\n",
      "False -1.0 Al-Farouq Aminu 0.0% 1.0%\n",
      "False -1.0 Thanasis Antetokounmpo 0.0% 1.0%\n",
      "False -1.0 Ryan Arcidiacono 0.0% 1.0%\n",
      "False -1.0 Avery Bradley 0.0% 1.0%\n",
      "False -1.0 Armoni Brooks 0.0% 1.0%\n",
      "False -1.0 Troy Brown Jr. 0.0% 1.0%\n",
      "False -1.0 Tyler Cook 0.0% 1.0%\n",
      "False -1.0 Jarrett Culver 0.0% 1.0%\n",
      "False -1.0 Dewayne Dedmon 0.0% 1.0%\n",
      "False -1.0 Langston Galloway 0.0% 1.0%\n",
      "False -1.0 Harry Giles III 0.0% 1.0%\n",
      "False -1.0 Freddie Gillespie 0.0% 1.0%\n",
      "False -1.0 Javonte Green 0.0% 1.0%\n",
      "False -1.0 Isaiah Joe 0.0% 1.0%\n",
      "False -1.0 Kevin Knox II 0.0% 1.0%\n",
      "False -1.0 Boban Marjanovic 0.0% 1.0%\n",
      "False -1.0 Kelan Martin 0.0% 1.0%\n",
      "False -1.0 Skylar Mays 0.0% 1.0%\n",
      "False -1.0 E'Twaun Moore 0.0% 1.0%\n",
      "False -1.0 Abdel Nader 0.0% 1.0%\n",
      "False -1.0 Zeke Nnaji 0.0% 1.0%\n",
      "False -1.0 Jordan Nwora 0.0% 1.0%\n",
      "False -1.0 Miye Oni 0.0% 1.0%\n",
      "False -1.0 Patrick Patterson 0.0% 1.0%\n",
      "False -1.0 Lamar Stevens 0.0% 1.0%\n",
      "False -1.0 Max Strus 0.0% 1.0%\n",
      "False -1.0 Brodric Thomas 0.0% 1.0%\n",
      "False -1.0 D.J. Wilson 0.0% 1.0%\n",
      "False -1.0 Dylan Windler 0.0% 1.0%\n",
      "False -1.0 Justise Winslow 0.0% 1.0%\n",
      "False -0.8 Thomas Bryant 0.2% 1.0%\n",
      "True -0.8 Pascal Siakam 5.2% 6.0%\n",
      "False -0.8 D'Angelo Russell 3.2% 4.0%\n",
      "True -0.7 Anthony Edwards 5.8% 6.5%\n",
      "False -0.7 Derrick White 2.3% 3.0%\n",
      "False -0.7 Collin Sexton 5.3% 6.0%\n",
      "False -0.5 Robert Williams III 3.5% 4.0%\n",
      "False -0.5 Montrezl Harrell 4.5% 5.0%\n",
      "False -0.5 Keita Bates-Diop 0.0% 0.5%\n",
      "False -0.5 Bol Bol 0.0% 0.5%\n",
      "False -0.5 Isaac Bonga 0.0% 0.5%\n",
      "False -0.5 Ignas Brazdeikis 0.0% 0.5%\n",
      "False -0.5 Devontae Cacok 0.0% 0.5%\n",
      "False -0.5 Vlatko Cancar 0.0% 0.5%\n",
      "False -0.5 Vernon Carey Jr. 0.0% 0.5%\n",
      "False -0.5 Chris Chiozza 0.0% 0.5%\n",
      "False -0.5 Amir Coffey 0.0% 0.5%\n",
      "False -0.5 Quinn Cook 0.0% 0.5%\n",
      "False -0.5 Gabriel Deck 0.0% 0.5%\n",
      "False -0.5 Mamadi Diakite 0.0% 0.5%\n",
      "False -0.5 CJ Elleby 0.0% 0.5%\n",
      "False -0.5 Tacko Fall 0.0% 0.5%\n",
      "False -0.5 Bruno Fernando 0.0% 0.5%\n"
     ]
    },
    {
     "name": "stdout",
     "output_type": "stream",
     "text": [
      "False -0.5 Trent Forrest 0.0% 0.5%\n",
      "False -0.5 Wenyen Gabriel 0.0% 0.5%\n",
      "False -0.5 Anthony Gill 0.0% 0.5%\n",
      "False -0.5 Josh Green 0.0% 0.5%\n",
      "False -0.5 Kyle Guy 0.0% 0.5%\n",
      "False -0.5 Shaquille Harrison 0.0% 0.5%\n",
      "False -0.5 Markus Howard 0.0% 0.5%\n",
      "False -0.5 Chandler Hutchison 0.0% 0.5%\n",
      "False -0.5 Wes Iwundu 0.0% 0.5%\n",
      "False -0.5 Alize Johnson 0.0% 0.5%\n",
      "False -0.5 Tre Jones 0.0% 0.5%\n",
      "False -0.5 Mfiondu Kabengele 0.0% 0.5%\n",
      "False -0.5 Louis King 0.0% 0.5%\n",
      "False -0.5 Nathan Knight 0.0% 0.5%\n",
      "False -0.5 Anthony Lamb 0.0% 0.5%\n",
      "False -0.5 Romeo Langford 0.0% 0.5%\n",
      "False -0.5 Trey Lyles 0.0% 0.5%\n",
      "False -0.5 Rodney McGruder 0.0% 0.5%\n",
      "False -0.5 Sam Merrill 0.0% 0.5%\n",
      "False -0.5 Juwan Morgan 0.0% 0.5%\n",
      "False -0.5 Frank Ntilikina 0.0% 0.5%\n",
      "False -0.5 Jahlil Okafor 0.0% 0.5%\n",
      "False -0.5 KZ Okpala 0.0% 0.5%\n",
      "False -0.5 Cameron Oliver 0.0% 0.5%\n",
      "False -0.5 Daniel Oturu 0.0% 0.5%\n",
      "False -0.5 Jabari Parker 0.0% 0.5%\n",
      "False -0.5 Reggie Perry 0.0% 0.5%\n",
      "False -0.5 Paul Reed 0.0% 0.5%\n",
      "False -0.5 Luka Samanic 0.0% 0.5%\n",
      "False -0.5 Jalen Smith 0.0% 0.5%\n",
      "False -0.5 Khyri Thomas 0.0% 0.5%\n",
      "False -0.5 Matt Thomas 0.0% 0.5%\n",
      "False -0.5 Killian Tillie 0.0% 0.5%\n",
      "False -0.5 Tremont Waters 0.0% 0.5%\n",
      "False -0.5 Paul Watson 0.0% 0.5%\n",
      "False -0.4 Markelle Fultz 0.1% 0.5%\n",
      "False -0.3 Kevin Porter Jr. 1.7% 2.0%\n",
      "True -0.2 DeMar DeRozan 6.8% 7.0%\n",
      "False -0.2 OG Anunoby 3.8% 4.0%\n",
      "False 0.0 Udoka Azubuike 0.0% 0.0%\n",
      "False 0.0 Jordan Bell 0.0% 0.0%\n",
      "False 0.0 Tyler Bey 0.0% 0.0%\n",
      "False 0.0 Keljin Blevins 0.0% 0.0%\n",
      "False 0.0 Marques Bolden 0.0% 0.0%\n",
      "False 0.0 Brian Bowen II 0.0% 0.0%\n",
      "False 0.0 Elijah Bryant 0.0% 0.0%\n",
      "False 0.0 Marquese Chriss 0.0% 0.0%\n",
      "False 0.0 Devon Dotson 0.0% 0.0%\n",
      "False 0.0 Kris Dunn 0.0% 0.0%\n",
      "False 0.0 Dante Exum 0.0% 0.0%\n",
      "False 0.0 Malik Fitts 0.0% 0.0%\n",
      "False 0.0 Jared Harper 0.0% 0.0%\n",
      "False 0.0 Udonis Haslem 0.0% 0.0%\n",
      "False 0.0 Nate Hinton 0.0% 0.0%\n",
      "False 0.0 Elijah Hughes 0.0% 0.0%\n",
      "False 0.0 Didi Louzada 0.0% 0.0%\n",
      "False 0.0 Sean McDermott 0.0% 0.0%\n",
      "False 0.0 Gary Payton II 0.0% 0.0%\n",
      "False 0.0 Theo Pinson 0.0% 0.0%\n",
      "False 0.0 Jahmi'us Ramsey 0.0% 0.0%\n",
      "False 0.0 Nick Richards 0.0% 0.0%\n",
      "False 0.0 Grant Riller 0.0% 0.0%\n",
      "False 0.0 Justin Robinson 0.0% 0.0%\n",
      "False 0.0 Jay Scrubb 0.0% 0.0%\n",
      "False 0.0 Chris Silva 0.0% 0.0%\n",
      "False 0.0 Cassius Stanley 0.0% 0.0%\n",
      "False 0.0 Tyrell Terry 0.0% 0.0%\n",
      "False 0.0 Cassius Winston 0.0% 0.0%\n",
      "False 0.0 Robert Woodard II 0.0% 0.0%\n",
      "False 0.2 Caris LeVert 5.2% 5.0%\n",
      "False 0.3 Kristaps Porzingis 4.8% 4.5%\n",
      "False 0.3 T.J. Warren 0.3% 0.0%\n",
      "False 0.9 CJ McCollum 6.4% 5.5%\n",
      "False 1.6 Jusuf Nurkic 5.1% 3.5%\n",
      "True 1.6 Brandon Ingram 8.6% 7.0%\n",
      "True 2.1 Chris Paul 10.6% 8.5%\n",
      "False 2.2 Jaren Jackson Jr. 3.2% 1.0%\n",
      "False 2.3 Lonzo Ball 7.8% 5.5%\n",
      "True 2.5 Tobias Harris 9.0% 6.5%\n",
      "False 2.8 Spencer Dinwiddie 2.8% 0.0%\n",
      "True 2.8 Khris Middleton 10.3% 7.5%\n",
      "True 3.2 Clint Capela 10.2% 7.0%\n",
      "True 3.3 Jaylen Brown 9.8% 6.5%\n",
      "True 3.3 Ben Simmons 9.3% 6.0%\n",
      "False 3.6 Ja Morant 9.6% 6.0%\n",
      "True 3.6 Russell Westbrook 13.1% 9.5%\n",
      "True 4.1 Jrue Holiday 11.1% 7.0%\n",
      "True 4.2 Zach LaVine 11.2% 7.0%\n",
      "True 4.4 Dejounte Murray 11.4% 7.0%\n",
      "True 4.4 Deandre Ayton 10.9% 6.5%\n",
      "False 5.2 Christian Wood 9.7% 4.5%\n",
      "True 6.2 Devin Booker 13.2% 7.0%\n",
      "True 6.3 Michael Porter Jr. 12.3% 6.0%\n",
      "True 6.6 Bam Adebayo 14.6% 8.0%\n",
      "True 7.9 Julius Randle 16.9% 9.0%\n",
      "True 8.1 Rudy Gobert 16.6% 8.5%\n",
      "True 8.4 Jimmy Butler 15.4% 7.0%\n",
      "False 10.2 Shai Gilgeous-Alexander 14.2% 4.0%\n",
      "False 10.8 LaMelo Ball 15.8% 5.0%\n",
      "True 12.1 Fred VanVleet 18.1% 6.0%\n",
      "True 12.1 Domantas Sabonis 20.1% 8.0%\n",
      "True 12.9 De'Aaron Fox 20.4% 7.5%\n",
      "True 13.4 Nikola Vucevic 22.9% 9.5%\n",
      "True 13.9 Donovan Mitchell 19.9% 6.0%\n",
      "True 14.1 Zion Williamson 21.6% 7.5%\n",
      "True 15.4 Trae Young 22.9% 7.5%\n",
      "False 16.6 Anthony Davis 21.1% 4.5%\n",
      "True 18.1 Joel Embiid 25.1% 7.0%\n",
      "True 18.8 LeBron James 24.8% 6.0%\n",
      "True 19.6 Jayson Tatum 27.6% 8.0%\n",
      "True 19.9 Paul George 26.4% 6.5%\n",
      "True 19.9 Damian Lillard 29.4% 9.5%\n",
      "True 20.0 Bradley Beal 28.0% 8.0%\n",
      "True 22.9 Stephen Curry 32.4% 9.5%\n",
      "True 23.7 Karl-Anthony Towns 30.2% 6.5%\n",
      "True 24.5 Nikola Jokic 36.5% 12.0%\n",
      "False 25.3 Kevin Durant 30.3% 5.0%\n",
      "True 26.6 James Harden 33.6% 7.0%\n",
      "True 27.2 Luka Doncic 36.7% 9.5%\n",
      "True 27.5 Giannis Antetokounmpo 37.0% 9.5%\n"
     ]
    }
   ],
   "source": [
    "# Determine the standouts\n",
    "differences = []\n",
    "s = 0.8\n",
    "for player in espn_costs:\n",
    "    if player in prop_costs:\n",
    "        x = (espn_costs[player] / SALARY) * 100\n",
    "        y = (prop_costs[player] / SALARY) * 100\n",
    "        x, y = round(x, 1), round(y, 1)\n",
    "        differences.append((fantasy_ppy[player][\"2020-21\"] > s * (POINTS_TO_WIN / NUM_PLAYERS), get_name(player), f\"{x}%\", f\"{y}%\", x - y))\n",
    "differences = sorted(differences, key=lambda x: x[-1])\n",
    "for y, p, a, b, c in differences[:]:\n",
    "    print(y, round(c, 1), p, a, b)"
   ]
  },
  {
   "cell_type": "code",
   "execution_count": null,
   "id": "f3b1bd16",
   "metadata": {},
   "outputs": [],
   "source": []
  },
  {
   "cell_type": "code",
   "execution_count": null,
   "id": "ba00a50a",
   "metadata": {},
   "outputs": [],
   "source": []
  },
  {
   "cell_type": "code",
   "execution_count": null,
   "id": "e929da00",
   "metadata": {},
   "outputs": [],
   "source": []
  },
  {
   "cell_type": "code",
   "execution_count": null,
   "id": "863169cd",
   "metadata": {},
   "outputs": [],
   "source": []
  },
  {
   "cell_type": "code",
   "execution_count": null,
   "id": "d4b48f1a",
   "metadata": {},
   "outputs": [],
   "source": []
  },
  {
   "cell_type": "code",
   "execution_count": null,
   "id": "b9d8fe7f",
   "metadata": {},
   "outputs": [],
   "source": []
  },
  {
   "cell_type": "code",
   "execution_count": null,
   "id": "7467db0c",
   "metadata": {},
   "outputs": [],
   "source": []
  },
  {
   "cell_type": "code",
   "execution_count": null,
   "id": "4f0c9df3",
   "metadata": {},
   "outputs": [],
   "source": []
  },
  {
   "cell_type": "code",
   "execution_count": null,
   "id": "5a2bda5e",
   "metadata": {},
   "outputs": [],
   "source": []
  },
  {
   "cell_type": "code",
   "execution_count": null,
   "id": "e80f38b2",
   "metadata": {},
   "outputs": [],
   "source": []
  },
  {
   "cell_type": "code",
   "execution_count": null,
   "id": "b3d4cdbe",
   "metadata": {},
   "outputs": [],
   "source": []
  },
  {
   "cell_type": "code",
   "execution_count": null,
   "id": "6016af1a",
   "metadata": {},
   "outputs": [],
   "source": []
  },
  {
   "cell_type": "code",
   "execution_count": null,
   "id": "7b1dd9ee",
   "metadata": {},
   "outputs": [],
   "source": []
  }
 ],
 "metadata": {
  "kernelspec": {
   "display_name": "Python 3 (ipykernel)",
   "language": "python",
   "name": "python3"
  },
  "language_info": {
   "codemirror_mode": {
    "name": "ipython",
    "version": 3
   },
   "file_extension": ".py",
   "mimetype": "text/x-python",
   "name": "python",
   "nbconvert_exporter": "python",
   "pygments_lexer": "ipython3",
   "version": "3.8.13"
  }
 },
 "nbformat": 4,
 "nbformat_minor": 5
}
