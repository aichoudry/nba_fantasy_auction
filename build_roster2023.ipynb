{
 "cells": [
  {
   "cell_type": "code",
   "execution_count": 2,
   "id": "f3b1bd16",
   "metadata": {},
   "outputs": [],
   "source": [
    "import numpy as np\n",
    "import json\n",
    "from math import ceil"
   ]
  },
  {
   "cell_type": "code",
   "execution_count": 9,
   "id": "ba00a50a",
   "metadata": {},
   "outputs": [
    {
     "data": {
      "text/plain": [
       "{'R': 1,\n",
       " 'NAME': 'Nikola Jokic',\n",
       " 'POS': 'C',\n",
       " 'TEAM': 'DEN',\n",
       " 'VALUED AT': 123,\n",
       " 'Y!_ AVG': 74,\n",
       " 'AVG_ESPN': 71,\n",
       " 'TOTAL_ESPN': 4158,\n",
       " 'PTS': 1690,\n",
       " 'TREB': 817,\n",
       " 'AST': 678,\n",
       " 'STL': 87,\n",
       " 'BLK': 47,\n",
       " '3PM': 57,\n",
       " 'FGM': 646,\n",
       " 'FGA': 1022,\n",
       " 'FTM': 341,\n",
       " 'FTA': 415,\n",
       " 'TO': 247,\n",
       " 'IMG': 'https://www.basketball-reference.com/req/202106291/images/headshots/jokicni01.jpg',\n",
       " 'IMG2': 'Picture'}"
      ]
     },
     "execution_count": 9,
     "metadata": {},
     "output_type": "execute_result"
    }
   ],
   "source": [
    "f = open('players-2023.json', 'r')\n",
    "players = json.load(f)\n",
    "players2 = {}\n",
    "\n",
    "NAME = \"NAME\"\n",
    "ESPN_AVG = \"AVG_ESPN\"\n",
    "YAHOO_AVG = \"Y!_ AVG\"\n",
    "VALUED_AT = \"VALUED AT\"\n",
    "RANK = \"R#\"\n",
    "POINTS = \"TOTAL_ESPN\"\n",
    "SCALE = 1\n",
    "\n",
    "for player in players:\n",
    "    player[YAHOO_AVG] = int(float(player[YAHOO_AVG][1:]))\n",
    "    player[ESPN_AVG] = int(float(player[ESPN_AVG][1:]))\n",
    "    player[VALUED_AT] = int(float(player[VALUED_AT][1:]))\n",
    "    players2[player[NAME]] = player\n",
    "players[0]"
   ]
  },
  {
   "cell_type": "code",
   "execution_count": 4,
   "id": "863169cd",
   "metadata": {},
   "outputs": [],
   "source": [
    "def get_roster(names, weights, W, K):\n",
    "    dp = []\n",
    "    pl = []\n",
    "    for i in range(len(names)):\n",
    "        dp.append([])\n",
    "        pl.append([])\n",
    "        for j in range(W+1):\n",
    "            dp[i].append([])\n",
    "            pl[i].append([])\n",
    "            for k in range(K+1):\n",
    "                dp[i][j].append(0)\n",
    "                pl[i][j].append([])\n",
    "    for i in range(1, len(names)):\n",
    "        for j in range(1, W+1):\n",
    "            for k in range(1, K+1):\n",
    "                if (j >= weights[i-1]):\n",
    "                    if dp[i-1][j][k] > dp[i-1][j-weights[i-1]][k-1] + names[i-1]:\n",
    "                        dp[i][j][k] = dp[i-1][j][k]\n",
    "                        pl[i][j][k] += pl[i-1][j][k]\n",
    "                    else:\n",
    "                        dp[i][j][k] = dp[i-1][j-weights[i-1]][k-1] + names[i-1]\n",
    "                        pl[i][j][k] += pl[i-1][j-weights[i-1]][k-1] + [i-1]\n",
    "                else:\n",
    "                    dp[i][j][k] = dp[i-1][j][k]\n",
    "                    pl[i][j][k] += pl[i-1][j][k]\n",
    "    return dp[len(names)-1][W][K], pl[len(names)-1][-1][-1]"
   ]
  },
  {
   "cell_type": "code",
   "execution_count": 52,
   "id": "924b8ea4",
   "metadata": {},
   "outputs": [],
   "source": [
    "def get_final_team(scale=ESPN_AVG, salary=200, num_players=13):\n",
    "    points = [player[POINTS] for player in players]\n",
    "    weights = [player[AVG_SCALE] for player in players]\n",
    "    total_points, player_index = get_roster(points, weights, TOTAL_SALARY, NUM_PLAYERS)\n",
    "    names = []\n",
    "    print(f'POINTS: {total_points}, AVG_POINTS: {total_points / NUM_PLAYERS}')\n",
    "    for i in player_index:\n",
    "        print(f'${players[i][AVG_SCALE]} {players[i][NAME]}')\n",
    "        names.append((players[i][NAME], players[i][AVG_SCALE]))\n",
    "    return names"
   ]
  },
  {
   "cell_type": "code",
   "execution_count": 63,
   "id": "5731f643",
   "metadata": {},
   "outputs": [],
   "source": [
    "def get_optimal_team(scale=ESPN_AVG, salary=200, num_players=13):\n",
    "    points = [player[POINTS] for player in players]\n",
    "    weights = [player[AVG_SCALE] for player in players]\n",
    "    total_points, player_index = get_roster(points, weights, TOTAL_SALARY, NUM_PLAYERS)\n",
    "    names = []\n",
    "    for i in player_index:\n",
    "        names.append((players[i][NAME], players[i][AVG_SCALE]))\n",
    "    return names"
   ]
  },
  {
   "cell_type": "code",
   "execution_count": 64,
   "id": "b08a898f",
   "metadata": {},
   "outputs": [],
   "source": [
    "def auction_player(name, price):\n",
    "    for player in players:\n",
    "        if player[NAME] == name:\n",
    "            player[ESPN_AVG] = ceil(price)"
   ]
  },
  {
   "cell_type": "code",
   "execution_count": 65,
   "id": "781ce15b",
   "metadata": {},
   "outputs": [],
   "source": [
    "def get_price(name):\n",
    "    for player in players:\n",
    "        if player[NAME] == name:\n",
    "            return player[ESPN_AVG]"
   ]
  },
  {
   "cell_type": "code",
   "execution_count": 66,
   "id": "ec345ef9",
   "metadata": {},
   "outputs": [],
   "source": [
    "def remove_player(name):\n",
    "    auction_player(name, 99999999999)"
   ]
  },
  {
   "cell_type": "code",
   "execution_count": 90,
   "id": "b1c9c163",
   "metadata": {},
   "outputs": [],
   "source": [
    "def should_draft(name, starting_price, salary, num_players, inc=5, scale=ESPN_AVG):\n",
    "    print(f'=== SEARCHING MAX PRICE FOR {name} ===')\n",
    "    og_price = get_price(name)\n",
    "    init_price = max(starting_price, og_price)\n",
    "    for i in range(init_price, 200, inc):\n",
    "        auction_player(name, i)\n",
    "        players = get_optimal_team(scale=scale, salary=salary, num_players=num_players)\n",
    "        if (name, i) in players:\n",
    "            print(f'DRAFT: {name} @ {i}')\n",
    "        else:\n",
    "            auction_player(name, og_price)\n",
    "            break\n",
    "    print(f'=== DONE SEARCHING MAX PRICE FOR {name} ===')"
   ]
  },
  {
   "cell_type": "markdown",
   "id": "55966286",
   "metadata": {},
   "source": [
    "# THE DRAFT"
   ]
  },
  {
   "cell_type": "markdown",
   "id": "6688b26b",
   "metadata": {},
   "source": [
    "## DESIRED TEAM"
   ]
  },
  {
   "cell_type": "code",
   "execution_count": 91,
   "id": "06ec34e9",
   "metadata": {},
   "outputs": [
    {
     "name": "stdout",
     "output_type": "stream",
     "text": [
      "POINTS: 36525, AVG_POINTS: 3043.75\n",
      "$71 Nikola Jokic\n",
      "$10 Kristaps Porzingis\n",
      "$10 Fred VanVleet\n",
      "$12 Zach LaVine\n",
      "$28 De'Aaron Fox\n",
      "$9 Evan Mobley\n",
      "$20 Nikola Vucevic\n",
      "$7 Nicolas Claxton\n",
      "$5 Ja Morant\n",
      "$2 Brook Lopez\n",
      "$16 Julius Randle\n",
      "$6 CJ McCollum\n"
     ]
    }
   ],
   "source": [
    "TOTAL_SALARY = 200\n",
    "NUM_PLAYERS = 12\n",
    "AVG_SCALE = ESPN_AVG\n",
    "desired_team = get_final_team(AVG_SCALE, TOTAL_SALARY, NUM_PLAYERS)"
   ]
  },
  {
   "cell_type": "markdown",
   "id": "1a841a74",
   "metadata": {},
   "source": [
    "### LIVE DRAFT"
   ]
  },
  {
   "cell_type": "code",
   "execution_count": 94,
   "id": "99618a57",
   "metadata": {},
   "outputs": [
    {
     "name": "stdout",
     "output_type": "stream",
     "text": [
      "=== SEARCHING MAX PRICE FOR Nikola Jokic ===\n",
      "DRAFT: Nikola Jokic @ 71\n",
      "DRAFT: Nikola Jokic @ 72\n",
      "DRAFT: Nikola Jokic @ 73\n",
      "DRAFT: Nikola Jokic @ 74\n",
      "DRAFT: Nikola Jokic @ 75\n",
      "=== DONE SEARCHING MAX PRICE FOR Nikola Jokic ===\n"
     ]
    }
   ],
   "source": [
    "should_draft(name='Nikola Jokic', \n",
    "             starting_price=71,\n",
    "             num_players=NUM_PLAYERS,\n",
    "             inc=1,\n",
    "             salary=TOTAL_SALARY)"
   ]
  },
  {
   "cell_type": "code",
   "execution_count": null,
   "id": "d678e1ad",
   "metadata": {},
   "outputs": [],
   "source": []
  },
  {
   "cell_type": "code",
   "execution_count": null,
   "id": "12dd0c11",
   "metadata": {},
   "outputs": [],
   "source": []
  }
 ],
 "metadata": {
  "kernelspec": {
   "display_name": "Python 3 (ipykernel)",
   "language": "python",
   "name": "python3"
  },
  "language_info": {
   "codemirror_mode": {
    "name": "ipython",
    "version": 3
   },
   "file_extension": ".py",
   "mimetype": "text/x-python",
   "name": "python",
   "nbconvert_exporter": "python",
   "pygments_lexer": "ipython3",
   "version": "3.8.13"
  }
 },
 "nbformat": 4,
 "nbformat_minor": 5
}
