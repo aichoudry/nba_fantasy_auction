{
 "cells": [
  {
   "cell_type": "code",
   "execution_count": 12,
   "id": "af99c970",
   "metadata": {},
   "outputs": [],
   "source": [
    "import requests\n",
    "from bs4 import BeautifulSoup as bs"
   ]
  },
  {
   "cell_type": "code",
   "execution_count": 13,
   "id": "4cbd748a",
   "metadata": {},
   "outputs": [
    {
     "data": {
      "text/plain": [
       "<Response [200]>"
      ]
     },
     "execution_count": 13,
     "metadata": {},
     "output_type": "execute_result"
    }
   ],
   "source": [
    "page = requests.get(\"https://hashtagbasketball.com/fantasy-basketball-auction-values\")\n",
    "page"
   ]
  },
  {
   "cell_type": "code",
   "execution_count": 28,
   "id": "0dff9396",
   "metadata": {},
   "outputs": [],
   "source": [
    "soup = bs(page.content, 'html.parser')"
   ]
  },
  {
   "cell_type": "code",
   "execution_count": 21,
   "id": "4bfac243",
   "metadata": {},
   "outputs": [],
   "source": [
    "table = soup.find_all(lambda tag: tag.name=='table')\n",
    "table = table[2]"
   ]
  },
  {
   "cell_type": "code",
   "execution_count": 29,
   "id": "47feb975",
   "metadata": {},
   "outputs": [
    {
     "name": "stdout",
     "output_type": "stream",
     "text": [
      "['1', 'Stephen Curry', 'PG,SG', 'GSW', '73', '34.0', '14.25', '$74', '$64.4', '$64.8']\n"
     ]
    }
   ],
   "source": [
    "data = []\n",
    "for row in table.findAll(\"tr\")[1:]:\n",
    "    cols = row.find_all('td')\n",
    "    cols = [ele.text.strip() for ele in cols]\n",
    "    data.append([ele for ele in cols if ele]) # Get rid of empty values\n",
    "print(data[0])"
   ]
  },
  {
   "cell_type": "code",
   "execution_count": 30,
   "id": "e9f56bd5",
   "metadata": {},
   "outputs": [],
   "source": [
    "import csv\n",
    "with open('espn_cost.csv', 'w', newline='') as f:\n",
    "    writer = csv.writer(f, delimiter=',')\n",
    "    for row in data:\n",
    "        writer.writerow(row)"
   ]
  },
  {
   "cell_type": "code",
   "execution_count": null,
   "id": "40ec43ff",
   "metadata": {},
   "outputs": [],
   "source": []
  }
 ],
 "metadata": {
  "kernelspec": {
   "display_name": "Python 3 (ipykernel)",
   "language": "python",
   "name": "python3"
  },
  "language_info": {
   "codemirror_mode": {
    "name": "ipython",
    "version": 3
   },
   "file_extension": ".py",
   "mimetype": "text/x-python",
   "name": "python",
   "nbconvert_exporter": "python",
   "pygments_lexer": "ipython3",
   "version": "3.8.13"
  }
 },
 "nbformat": 4,
 "nbformat_minor": 5
}
